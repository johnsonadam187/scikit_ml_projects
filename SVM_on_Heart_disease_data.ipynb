{
  "nbformat": 4,
  "nbformat_minor": 0,
  "metadata": {
    "colab": {
      "name": "SVM on Heart disease data.ipynb",
      "provenance": [],
      "collapsed_sections": [],
      "authorship_tag": "ABX9TyO+bje1ooLIn6wjPmPoM1me",
      "include_colab_link": true
    },
    "kernelspec": {
      "name": "python3",
      "display_name": "Python 3"
    }
  },
  "cells": [
    {
      "cell_type": "markdown",
      "metadata": {
        "id": "view-in-github",
        "colab_type": "text"
      },
      "source": [
        "<a href=\"https://colab.research.google.com/github/johnsonadam187/scikit_ml_projects/blob/main/SVM_on_Heart_disease_data.ipynb\" target=\"_parent\"><img src=\"https://colab.research.google.com/assets/colab-badge.svg\" alt=\"Open In Colab\"/></a>"
      ]
    },
    {
      "cell_type": "code",
      "metadata": {
        "id": "w3ExBbl93IPL"
      },
      "source": [
        "import pandas as pd\r\n",
        "import numpy as np\r\n",
        "import sklearn\r\n",
        "import matplotlib.pyplot as plt\r\n",
        "import seaborn as sns"
      ],
      "execution_count": 1,
      "outputs": []
    },
    {
      "cell_type": "markdown",
      "metadata": {
        "id": "gtvC0ZD34bgV"
      },
      "source": [
        "Retrieve the data already saved on google drive"
      ]
    },
    {
      "cell_type": "code",
      "metadata": {
        "colab": {
          "base_uri": "https://localhost:8080/",
          "height": 258
        },
        "id": "8k_ExVvT3kCp",
        "outputId": "8d17aeb2-3b75-4036-b56a-cbd5496d6a47"
      },
      "source": [
        "from sklearn.svm import SVC\r\n",
        "from google.colab import drive\r\n",
        "drive.mount('/content/gdrive')\r\n",
        "%cd gdrive/MyDrive/\"ML Datasets\"/\"UCI datasets\"\r\n",
        "df1 = pd.read_csv(r\"/content/gdrive/MyDrive/ML Datasets/UCI datasets/Heart disease/processed.cleveland.data\", header=None)\r\n",
        "df1.columns = [\"age\", \"sex\", \"chest_pain\", \"resting_blood_pressure\", \r\n",
        "               \"cholesterol\", \"fasting_blood_sugar\", \"resting_electrocardiographic_results\", \r\n",
        "               \"maximum_HR_achieved\", \"exercise_induced_angina\", \"ST_depression_by_exercise\", \r\n",
        "               \"slope_of_ST_exercise_peak\", \"major_vessels_coloured_by_fluoro\", \r\n",
        "               \"thallium_heart_scan\", \"diagnosis_of_heart_disease\"]\r\n",
        "df1.head()"
      ],
      "execution_count": 2,
      "outputs": [
        {
          "output_type": "stream",
          "text": [
            "Drive already mounted at /content/gdrive; to attempt to forcibly remount, call drive.mount(\"/content/gdrive\", force_remount=True).\n",
            "/content/gdrive/MyDrive/ML Datasets/UCI datasets\n"
          ],
          "name": "stdout"
        },
        {
          "output_type": "execute_result",
          "data": {
            "text/html": [
              "<div>\n",
              "<style scoped>\n",
              "    .dataframe tbody tr th:only-of-type {\n",
              "        vertical-align: middle;\n",
              "    }\n",
              "\n",
              "    .dataframe tbody tr th {\n",
              "        vertical-align: top;\n",
              "    }\n",
              "\n",
              "    .dataframe thead th {\n",
              "        text-align: right;\n",
              "    }\n",
              "</style>\n",
              "<table border=\"1\" class=\"dataframe\">\n",
              "  <thead>\n",
              "    <tr style=\"text-align: right;\">\n",
              "      <th></th>\n",
              "      <th>age</th>\n",
              "      <th>sex</th>\n",
              "      <th>chest_pain</th>\n",
              "      <th>resting_blood_pressure</th>\n",
              "      <th>cholesterol</th>\n",
              "      <th>fasting_blood_sugar</th>\n",
              "      <th>resting_electrocardiographic_results</th>\n",
              "      <th>maximum_HR_achieved</th>\n",
              "      <th>exercise_induced_angina</th>\n",
              "      <th>ST_depression_by_exercise</th>\n",
              "      <th>slope_of_ST_exercise_peak</th>\n",
              "      <th>major_vessels_coloured_by_fluoro</th>\n",
              "      <th>thallium_heart_scan</th>\n",
              "      <th>diagnosis_of_heart_disease</th>\n",
              "    </tr>\n",
              "  </thead>\n",
              "  <tbody>\n",
              "    <tr>\n",
              "      <th>0</th>\n",
              "      <td>63.0</td>\n",
              "      <td>1.0</td>\n",
              "      <td>1.0</td>\n",
              "      <td>145.0</td>\n",
              "      <td>233.0</td>\n",
              "      <td>1.0</td>\n",
              "      <td>2.0</td>\n",
              "      <td>150.0</td>\n",
              "      <td>0.0</td>\n",
              "      <td>2.3</td>\n",
              "      <td>3.0</td>\n",
              "      <td>0.0</td>\n",
              "      <td>6.0</td>\n",
              "      <td>0</td>\n",
              "    </tr>\n",
              "    <tr>\n",
              "      <th>1</th>\n",
              "      <td>67.0</td>\n",
              "      <td>1.0</td>\n",
              "      <td>4.0</td>\n",
              "      <td>160.0</td>\n",
              "      <td>286.0</td>\n",
              "      <td>0.0</td>\n",
              "      <td>2.0</td>\n",
              "      <td>108.0</td>\n",
              "      <td>1.0</td>\n",
              "      <td>1.5</td>\n",
              "      <td>2.0</td>\n",
              "      <td>3.0</td>\n",
              "      <td>3.0</td>\n",
              "      <td>2</td>\n",
              "    </tr>\n",
              "    <tr>\n",
              "      <th>2</th>\n",
              "      <td>67.0</td>\n",
              "      <td>1.0</td>\n",
              "      <td>4.0</td>\n",
              "      <td>120.0</td>\n",
              "      <td>229.0</td>\n",
              "      <td>0.0</td>\n",
              "      <td>2.0</td>\n",
              "      <td>129.0</td>\n",
              "      <td>1.0</td>\n",
              "      <td>2.6</td>\n",
              "      <td>2.0</td>\n",
              "      <td>2.0</td>\n",
              "      <td>7.0</td>\n",
              "      <td>1</td>\n",
              "    </tr>\n",
              "    <tr>\n",
              "      <th>3</th>\n",
              "      <td>37.0</td>\n",
              "      <td>1.0</td>\n",
              "      <td>3.0</td>\n",
              "      <td>130.0</td>\n",
              "      <td>250.0</td>\n",
              "      <td>0.0</td>\n",
              "      <td>0.0</td>\n",
              "      <td>187.0</td>\n",
              "      <td>0.0</td>\n",
              "      <td>3.5</td>\n",
              "      <td>3.0</td>\n",
              "      <td>0.0</td>\n",
              "      <td>3.0</td>\n",
              "      <td>0</td>\n",
              "    </tr>\n",
              "    <tr>\n",
              "      <th>4</th>\n",
              "      <td>41.0</td>\n",
              "      <td>0.0</td>\n",
              "      <td>2.0</td>\n",
              "      <td>130.0</td>\n",
              "      <td>204.0</td>\n",
              "      <td>0.0</td>\n",
              "      <td>2.0</td>\n",
              "      <td>172.0</td>\n",
              "      <td>0.0</td>\n",
              "      <td>1.4</td>\n",
              "      <td>1.0</td>\n",
              "      <td>0.0</td>\n",
              "      <td>3.0</td>\n",
              "      <td>0</td>\n",
              "    </tr>\n",
              "  </tbody>\n",
              "</table>\n",
              "</div>"
            ],
            "text/plain": [
              "    age  sex  ...  thallium_heart_scan  diagnosis_of_heart_disease\n",
              "0  63.0  1.0  ...                  6.0                           0\n",
              "1  67.0  1.0  ...                  3.0                           2\n",
              "2  67.0  1.0  ...                  7.0                           1\n",
              "3  37.0  1.0  ...                  3.0                           0\n",
              "4  41.0  0.0  ...                  3.0                           0\n",
              "\n",
              "[5 rows x 14 columns]"
            ]
          },
          "metadata": {
            "tags": []
          },
          "execution_count": 2
        }
      ]
    },
    {
      "cell_type": "markdown",
      "metadata": {
        "id": "uvu7TrW54-4J"
      },
      "source": [
        "Transform and encode the data correctly"
      ]
    },
    {
      "cell_type": "code",
      "metadata": {
        "colab": {
          "base_uri": "https://localhost:8080/"
        },
        "id": "9OKqiy3v6uy0",
        "outputId": "9cc59592-4c1d-490d-a3ef-efb1f10394a9"
      },
      "source": [
        "df1.dtypes"
      ],
      "execution_count": 3,
      "outputs": [
        {
          "output_type": "execute_result",
          "data": {
            "text/plain": [
              "age                                     float64\n",
              "sex                                     float64\n",
              "chest_pain                              float64\n",
              "resting_blood_pressure                  float64\n",
              "cholesterol                             float64\n",
              "fasting_blood_sugar                     float64\n",
              "resting_electrocardiographic_results    float64\n",
              "maximum_HR_achieved                     float64\n",
              "exercise_induced_angina                 float64\n",
              "ST_depression_by_exercise               float64\n",
              "slope_of_ST_exercise_peak               float64\n",
              "major_vessels_coloured_by_fluoro         object\n",
              "thallium_heart_scan                      object\n",
              "diagnosis_of_heart_disease                int64\n",
              "dtype: object"
            ]
          },
          "metadata": {
            "tags": []
          },
          "execution_count": 3
        }
      ]
    },
    {
      "cell_type": "code",
      "metadata": {
        "colab": {
          "base_uri": "https://localhost:8080/"
        },
        "id": "GmjjEf0_8ZYT",
        "outputId": "337d4054-fe56-4d26-f4cb-e5c397e0f3cf"
      },
      "source": [
        "for index, item in enumerate(df1.columns):\r\n",
        "  print(f\"{item}: {len(df1.iloc[:, index].value_counts())}\")"
      ],
      "execution_count": 4,
      "outputs": [
        {
          "output_type": "stream",
          "text": [
            "age: 41\n",
            "sex: 2\n",
            "chest_pain: 4\n",
            "resting_blood_pressure: 50\n",
            "cholesterol: 152\n",
            "fasting_blood_sugar: 2\n",
            "resting_electrocardiographic_results: 3\n",
            "maximum_HR_achieved: 91\n",
            "exercise_induced_angina: 2\n",
            "ST_depression_by_exercise: 40\n",
            "slope_of_ST_exercise_peak: 3\n",
            "major_vessels_coloured_by_fluoro: 5\n",
            "thallium_heart_scan: 4\n",
            "diagnosis_of_heart_disease: 5\n"
          ],
          "name": "stdout"
        }
      ]
    },
    {
      "cell_type": "code",
      "metadata": {
        "id": "w6z1phoo4qXn"
      },
      "source": [
        "thal_med = np.median([float(item) for item in df1['thallium_heart_scan'] if not item == \"?\"])\r\n",
        "df1[\"thallium_heart_scan\"].replace(\"?\", thal_med, inplace=True)\r\n",
        "df1['major_vessels_coloured_by_fluoro'].replace(\"?\", 0.0, inplace=True)\r\n",
        "df1 = df1.astype({\"thallium_heart_scan\":'float64', \"major_vessels_coloured_by_fluoro\":\"float64\"})\r\n",
        "target = df1.pop(\"diagnosis_of_heart_disease\")\r\n",
        "df2 = pd.get_dummies(data=df1, columns=['chest_pain', \"resting_electrocardiographic_results\", \"slope_of_ST_exercise_peak\", \"major_vessels_coloured_by_fluoro\", \"thallium_heart_scan\"])\r\n",
        "df2 = df2.astype({'age':'int', 'sex':'int', 'fasting_blood_sugar':'int', 'exercise_induced_angina':'int'})\r\n",
        "indices = target > 1\r\n",
        "target[indices] = 1"
      ],
      "execution_count": 5,
      "outputs": []
    },
    {
      "cell_type": "markdown",
      "metadata": {
        "id": "pZ3iIxRA5rlS"
      },
      "source": [
        "check the data"
      ]
    },
    {
      "cell_type": "code",
      "metadata": {
        "colab": {
          "base_uri": "https://localhost:8080/",
          "height": 131
        },
        "id": "44SGGc0l5oPY",
        "outputId": "eb5c5b96-e852-4144-9dc4-870facd7346c"
      },
      "source": [
        "df2.head(2)"
      ],
      "execution_count": 6,
      "outputs": [
        {
          "output_type": "execute_result",
          "data": {
            "text/html": [
              "<div>\n",
              "<style scoped>\n",
              "    .dataframe tbody tr th:only-of-type {\n",
              "        vertical-align: middle;\n",
              "    }\n",
              "\n",
              "    .dataframe tbody tr th {\n",
              "        vertical-align: top;\n",
              "    }\n",
              "\n",
              "    .dataframe thead th {\n",
              "        text-align: right;\n",
              "    }\n",
              "</style>\n",
              "<table border=\"1\" class=\"dataframe\">\n",
              "  <thead>\n",
              "    <tr style=\"text-align: right;\">\n",
              "      <th></th>\n",
              "      <th>age</th>\n",
              "      <th>sex</th>\n",
              "      <th>resting_blood_pressure</th>\n",
              "      <th>cholesterol</th>\n",
              "      <th>fasting_blood_sugar</th>\n",
              "      <th>maximum_HR_achieved</th>\n",
              "      <th>exercise_induced_angina</th>\n",
              "      <th>ST_depression_by_exercise</th>\n",
              "      <th>chest_pain_1.0</th>\n",
              "      <th>chest_pain_2.0</th>\n",
              "      <th>chest_pain_3.0</th>\n",
              "      <th>chest_pain_4.0</th>\n",
              "      <th>resting_electrocardiographic_results_0.0</th>\n",
              "      <th>resting_electrocardiographic_results_1.0</th>\n",
              "      <th>resting_electrocardiographic_results_2.0</th>\n",
              "      <th>slope_of_ST_exercise_peak_1.0</th>\n",
              "      <th>slope_of_ST_exercise_peak_2.0</th>\n",
              "      <th>slope_of_ST_exercise_peak_3.0</th>\n",
              "      <th>major_vessels_coloured_by_fluoro_0.0</th>\n",
              "      <th>major_vessels_coloured_by_fluoro_1.0</th>\n",
              "      <th>major_vessels_coloured_by_fluoro_2.0</th>\n",
              "      <th>major_vessels_coloured_by_fluoro_3.0</th>\n",
              "      <th>thallium_heart_scan_3.0</th>\n",
              "      <th>thallium_heart_scan_6.0</th>\n",
              "      <th>thallium_heart_scan_7.0</th>\n",
              "    </tr>\n",
              "  </thead>\n",
              "  <tbody>\n",
              "    <tr>\n",
              "      <th>0</th>\n",
              "      <td>63</td>\n",
              "      <td>1</td>\n",
              "      <td>145.0</td>\n",
              "      <td>233.0</td>\n",
              "      <td>1</td>\n",
              "      <td>150.0</td>\n",
              "      <td>0</td>\n",
              "      <td>2.3</td>\n",
              "      <td>1</td>\n",
              "      <td>0</td>\n",
              "      <td>0</td>\n",
              "      <td>0</td>\n",
              "      <td>0</td>\n",
              "      <td>0</td>\n",
              "      <td>1</td>\n",
              "      <td>0</td>\n",
              "      <td>0</td>\n",
              "      <td>1</td>\n",
              "      <td>1</td>\n",
              "      <td>0</td>\n",
              "      <td>0</td>\n",
              "      <td>0</td>\n",
              "      <td>0</td>\n",
              "      <td>1</td>\n",
              "      <td>0</td>\n",
              "    </tr>\n",
              "    <tr>\n",
              "      <th>1</th>\n",
              "      <td>67</td>\n",
              "      <td>1</td>\n",
              "      <td>160.0</td>\n",
              "      <td>286.0</td>\n",
              "      <td>0</td>\n",
              "      <td>108.0</td>\n",
              "      <td>1</td>\n",
              "      <td>1.5</td>\n",
              "      <td>0</td>\n",
              "      <td>0</td>\n",
              "      <td>0</td>\n",
              "      <td>1</td>\n",
              "      <td>0</td>\n",
              "      <td>0</td>\n",
              "      <td>1</td>\n",
              "      <td>0</td>\n",
              "      <td>1</td>\n",
              "      <td>0</td>\n",
              "      <td>0</td>\n",
              "      <td>0</td>\n",
              "      <td>0</td>\n",
              "      <td>1</td>\n",
              "      <td>1</td>\n",
              "      <td>0</td>\n",
              "      <td>0</td>\n",
              "    </tr>\n",
              "  </tbody>\n",
              "</table>\n",
              "</div>"
            ],
            "text/plain": [
              "   age  sex  ...  thallium_heart_scan_6.0  thallium_heart_scan_7.0\n",
              "0   63    1  ...                        1                        0\n",
              "1   67    1  ...                        0                        0\n",
              "\n",
              "[2 rows x 25 columns]"
            ]
          },
          "metadata": {
            "tags": []
          },
          "execution_count": 6
        }
      ]
    },
    {
      "cell_type": "code",
      "metadata": {
        "id": "bciJCSCe5ud6"
      },
      "source": [
        "from sklearn.model_selection import train_test_split\r\n",
        "x_train, x_test, y_train, y_test = train_test_split(df2, target, test_size = 0.2)"
      ],
      "execution_count": 8,
      "outputs": []
    },
    {
      "cell_type": "code",
      "metadata": {
        "id": "sSzJXJ_O5zfW"
      },
      "source": [
        "from sklearn.metrics import plot_confusion_matrix"
      ],
      "execution_count": 9,
      "outputs": []
    },
    {
      "cell_type": "code",
      "metadata": {
        "colab": {
          "base_uri": "https://localhost:8080/"
        },
        "id": "bevzQ_9Q-pSP",
        "outputId": "a37446dc-3cd8-4aeb-b060-ec306fdfdd41"
      },
      "source": [
        "vector = SVC()\r\n",
        "vector.fit(x_train, y_train)"
      ],
      "execution_count": 10,
      "outputs": [
        {
          "output_type": "execute_result",
          "data": {
            "text/plain": [
              "SVC(C=1.0, break_ties=False, cache_size=200, class_weight=None, coef0=0.0,\n",
              "    decision_function_shape='ovr', degree=3, gamma='scale', kernel='rbf',\n",
              "    max_iter=-1, probability=False, random_state=None, shrinking=True,\n",
              "    tol=0.001, verbose=False)"
            ]
          },
          "metadata": {
            "tags": []
          },
          "execution_count": 10
        }
      ]
    },
    {
      "cell_type": "code",
      "metadata": {
        "colab": {
          "base_uri": "https://localhost:8080/"
        },
        "id": "LdzN5zNf-x2S",
        "outputId": "301bdbe8-787e-4efa-bb7f-7baaf41cce6a"
      },
      "source": [
        "vector.score(x_train, y_train)"
      ],
      "execution_count": 12,
      "outputs": [
        {
          "output_type": "execute_result",
          "data": {
            "text/plain": [
              "0.6776859504132231"
            ]
          },
          "metadata": {
            "tags": []
          },
          "execution_count": 12
        }
      ]
    },
    {
      "cell_type": "code",
      "metadata": {
        "colab": {
          "base_uri": "https://localhost:8080/",
          "height": 279
        },
        "id": "vFYoyOis-3op",
        "outputId": "47b2b8d0-dfaa-4f3c-8209-5d0bab62631d"
      },
      "source": [
        "plot_confusion_matrix(vector, x_test, y_test, display_labels=[\"No Heart Disease\", \"Heart Disease\"])\r\n",
        "plt.show()"
      ],
      "execution_count": 13,
      "outputs": [
        {
          "output_type": "display_data",
          "data": {
            "image/png": "[encoded data removed]",
            "text/plain": [
              "<Figure size 432x288 with 2 Axes>"
            ]
          },
          "metadata": {
            "tags": [],
            "needs_background": "light"
          }
        }
      ]
    },
    {
      "cell_type": "code",
      "metadata": {
        "colab": {
          "base_uri": "https://localhost:8080/"
        },
        "id": "SgJ0xRXo_Qo_",
        "outputId": "75c6bb9d-094f-4a86-9773-05caa3697b13"
      },
      "source": [
        "sensitivity = 12/(12+21)\r\n",
        "specificity = 23/(23+5)\r\n",
        "print(f\"Sensitivity: {sensitivity*100:.0f}%\")\r\n",
        "print(f\"Specificity: {specificity*100:.0f}%\")"
      ],
      "execution_count": 15,
      "outputs": [
        {
          "output_type": "stream",
          "text": [
            "Sensitivity: 36%\n",
            "Specificity: 82%\n"
          ],
          "name": "stdout"
        }
      ]
    },
    {
      "cell_type": "markdown",
      "metadata": {
        "id": "p9y-6ZiAAPpw"
      },
      "source": [
        "So not very good currently"
      ]
    },
    {
      "cell_type": "code",
      "metadata": {
        "id": "v45UB8hlAJuZ"
      },
      "source": [
        ""
      ],
      "execution_count": null,
      "outputs": []
    }
  ]
}